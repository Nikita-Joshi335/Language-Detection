{
 "cells": [
  {
   "cell_type": "markdown",
   "id": "a280addf",
   "metadata": {},
   "source": [
    "# Language Detection# \n"
   ]
  },
  {
   "cell_type": "markdown",
   "id": "fd38be06",
   "metadata": {},
   "source": [
    "Introduction\n",
    "\n",
    "As a human, you can easily detect the languages you know. For example, I can easily identify Hindi and English, but being an Indian, it is also not possible for me to identify all Indian languages. This is where the language identification task can be used. Google Translate is one of the most popular language translators in the world which is used by so many people around the world. It also includes a machine learning model to detect languages that you can use if you don’t know which language you want to translate."
   ]
  },
  {
   "cell_type": "markdown",
   "id": "8aee8baa",
   "metadata": {},
   "source": [
    "# Language Detection using Python"
   ]
  },
  {
   "cell_type": "code",
   "execution_count": 1,
   "id": "30704853",
   "metadata": {},
   "outputs": [],
   "source": [
    "import pandas as pd\n",
    "import numpy as np\n",
    "from sklearn.feature_extraction.text import CountVectorizer\n",
    "from sklearn.model_selection import train_test_split\n",
    "from sklearn.naive_bayes import MultinomialNB\n"
   ]
  },
  {
   "cell_type": "code",
   "execution_count": 21,
   "id": "fa5d31bc",
   "metadata": {
    "scrolled": true
   },
   "outputs": [],
   "source": [
    "df=pd.read_csv('C:\\\\Users\\\\nikit\\\\Downloads\\\\language detection.csv',encoding='ISO-8859-1')\n",
    "\n"
   ]
  },
  {
   "cell_type": "code",
   "execution_count": 22,
   "id": "65d26f31",
   "metadata": {},
   "outputs": [
    {
     "data": {
      "text/html": [
       "<div>\n",
       "<style scoped>\n",
       "    .dataframe tbody tr th:only-of-type {\n",
       "        vertical-align: middle;\n",
       "    }\n",
       "\n",
       "    .dataframe tbody tr th {\n",
       "        vertical-align: top;\n",
       "    }\n",
       "\n",
       "    .dataframe thead th {\n",
       "        text-align: right;\n",
       "    }\n",
       "</style>\n",
       "<table border=\"1\" class=\"dataframe\">\n",
       "  <thead>\n",
       "    <tr style=\"text-align: right;\">\n",
       "      <th></th>\n",
       "      <th>Text</th>\n",
       "      <th>Language</th>\n",
       "    </tr>\n",
       "  </thead>\n",
       "  <tbody>\n",
       "    <tr>\n",
       "      <th>0</th>\n",
       "      <td>Nature, in the broadest sense, is the natural...</td>\n",
       "      <td>English</td>\n",
       "    </tr>\n",
       "    <tr>\n",
       "      <th>1</th>\n",
       "      <td>\"Nature\" can refer to the phenomena of the phy...</td>\n",
       "      <td>English</td>\n",
       "    </tr>\n",
       "    <tr>\n",
       "      <th>2</th>\n",
       "      <td>The study of nature is a large, if not the onl...</td>\n",
       "      <td>English</td>\n",
       "    </tr>\n",
       "    <tr>\n",
       "      <th>3</th>\n",
       "      <td>Although humans are part of nature, human acti...</td>\n",
       "      <td>English</td>\n",
       "    </tr>\n",
       "    <tr>\n",
       "      <th>4</th>\n",
       "      <td>[1] The word nature is borrowed from the Old F...</td>\n",
       "      <td>English</td>\n",
       "    </tr>\n",
       "    <tr>\n",
       "      <th>...</th>\n",
       "      <td>...</td>\n",
       "      <td>...</td>\n",
       "    </tr>\n",
       "    <tr>\n",
       "      <th>10333</th>\n",
       "      <td>à²¨à²¿à²®à³à²® à²¤à²ªà³à²ªà³ à²à²¨à³ à²¬à...</td>\n",
       "      <td>Kannada</td>\n",
       "    </tr>\n",
       "    <tr>\n",
       "      <th>10334</th>\n",
       "      <td>à²¨à²¾à²°à³à²¸à²¿à²¸à²¾ à²¤à²¾à²¨à³ à²®à³à²...</td>\n",
       "      <td>Kannada</td>\n",
       "    </tr>\n",
       "    <tr>\n",
       "      <th>10335</th>\n",
       "      <td>à²¹à³à²à³ ' à²¨à²¾à²°à³à²¸à²¿à²¸à²¿à²¸à²®à...</td>\n",
       "      <td>Kannada</td>\n",
       "    </tr>\n",
       "    <tr>\n",
       "      <th>10336</th>\n",
       "      <td>à²",
       "à²µà²³à³ à²à² à²¹à³à²à³à²à³ à²à²¿à...</td>\n",
       "      <td>Kannada</td>\n",
       "    </tr>\n",
       "    <tr>\n",
       "      <th>10337</th>\n",
       "      <td>à²à³à²°à³à²°à²¿ à²¨à³à²µà³ à²¨à²¿à²à²µà²...</td>\n",
       "      <td>Kannada</td>\n",
       "    </tr>\n",
       "  </tbody>\n",
       "</table>\n",
       "<p>10338 rows × 2 columns</p>\n",
       "</div>"
      ],
      "text/plain": [
       "                                                    Text Language\n",
       "0       Nature, in the broadest sense, is the natural...  English\n",
       "1      \"Nature\" can refer to the phenomena of the phy...  English\n",
       "2      The study of nature is a large, if not the onl...  English\n",
       "3      Although humans are part of nature, human acti...  English\n",
       "4      [1] The word nature is borrowed from the Old F...  English\n",
       "...                                                  ...      ...\n",
       "10333  à²¨à²¿à²®à³à²® à²¤à²ªà³à²ªà³ à²à²¨à³ à²¬à...  Kannada\n",
       "10334  à²¨à²¾à²°à³à²¸à²¿à²¸à²¾ à²¤à²¾à²¨à³ à²®à³à²...  Kannada\n",
       "10335  à²¹à³à²à³ ' à²¨à²¾à²°à³à²¸à²¿à²¸à²¿à²¸à²®à...  Kannada\n",
       "10336  à²\n",
       "à²µà²³à³ à²à² à²¹à³à²à³à²à³ à²à²¿à...  Kannada\n",
       "10337  à²à³à²°à³à²°à²¿ à²¨à³à²µà³ à²¨à²¿à²à²µà²...  Kannada\n",
       "\n",
       "[10338 rows x 2 columns]"
      ]
     },
     "execution_count": 22,
     "metadata": {},
     "output_type": "execute_result"
    }
   ],
   "source": [
    "unnamed_cols  =  df.columns.str.contains('Unnamed')\n",
    "unnamed_cols\n",
    "df = df.drop(df[df.columns[unnamed_cols]], axis=1)\n",
    "df"
   ]
  },
  {
   "cell_type": "markdown",
   "id": "ac4dba66",
   "metadata": {},
   "source": [
    "Let’s have a look at whether this dataset contains any null values or not: "
   ]
  },
  {
   "cell_type": "code",
   "execution_count": 24,
   "id": "0e15b1e0",
   "metadata": {},
   "outputs": [
    {
     "data": {
      "text/plain": [
       "Text        0\n",
       "Language    1\n",
       "dtype: int64"
      ]
     },
     "execution_count": 24,
     "metadata": {},
     "output_type": "execute_result"
    }
   ],
   "source": [
    "df.isnull().sum()"
   ]
  },
  {
   "cell_type": "markdown",
   "id": "9ddf87b6",
   "metadata": {},
   "source": [
    "Drop row containing null value"
   ]
  },
  {
   "cell_type": "code",
   "execution_count": 37,
   "id": "498e4a70",
   "metadata": {},
   "outputs": [
    {
     "data": {
      "text/html": [
       "<div>\n",
       "<style scoped>\n",
       "    .dataframe tbody tr th:only-of-type {\n",
       "        vertical-align: middle;\n",
       "    }\n",
       "\n",
       "    .dataframe tbody tr th {\n",
       "        vertical-align: top;\n",
       "    }\n",
       "\n",
       "    .dataframe thead th {\n",
       "        text-align: right;\n",
       "    }\n",
       "</style>\n",
       "<table border=\"1\" class=\"dataframe\">\n",
       "  <thead>\n",
       "    <tr style=\"text-align: right;\">\n",
       "      <th></th>\n",
       "      <th>Text</th>\n",
       "      <th>Language</th>\n",
       "    </tr>\n",
       "  </thead>\n",
       "  <tbody>\n",
       "    <tr>\n",
       "      <th>0</th>\n",
       "      <td>Nature, in the broadest sense, is the natural...</td>\n",
       "      <td>English</td>\n",
       "    </tr>\n",
       "    <tr>\n",
       "      <th>1</th>\n",
       "      <td>\"Nature\" can refer to the phenomena of the phy...</td>\n",
       "      <td>English</td>\n",
       "    </tr>\n",
       "    <tr>\n",
       "      <th>2</th>\n",
       "      <td>The study of nature is a large, if not the onl...</td>\n",
       "      <td>English</td>\n",
       "    </tr>\n",
       "    <tr>\n",
       "      <th>3</th>\n",
       "      <td>Although humans are part of nature, human acti...</td>\n",
       "      <td>English</td>\n",
       "    </tr>\n",
       "    <tr>\n",
       "      <th>4</th>\n",
       "      <td>[1] The word nature is borrowed from the Old F...</td>\n",
       "      <td>English</td>\n",
       "    </tr>\n",
       "    <tr>\n",
       "      <th>...</th>\n",
       "      <td>...</td>\n",
       "      <td>...</td>\n",
       "    </tr>\n",
       "    <tr>\n",
       "      <th>10333</th>\n",
       "      <td>à²¨à²¿à²®à³à²® à²¤à²ªà³à²ªà³ à²à²¨à³ à²¬à...</td>\n",
       "      <td>Kannada</td>\n",
       "    </tr>\n",
       "    <tr>\n",
       "      <th>10334</th>\n",
       "      <td>à²¨à²¾à²°à³à²¸à²¿à²¸à²¾ à²¤à²¾à²¨à³ à²®à³à²...</td>\n",
       "      <td>Kannada</td>\n",
       "    </tr>\n",
       "    <tr>\n",
       "      <th>10335</th>\n",
       "      <td>à²¹à³à²à³ ' à²¨à²¾à²°à³à²¸à²¿à²¸à²¿à²¸à²®à...</td>\n",
       "      <td>Kannada</td>\n",
       "    </tr>\n",
       "    <tr>\n",
       "      <th>10336</th>\n",
       "      <td>à²",
       "à²µà²³à³ à²à² à²¹à³à²à³à²à³ à²à²¿à...</td>\n",
       "      <td>Kannada</td>\n",
       "    </tr>\n",
       "    <tr>\n",
       "      <th>10337</th>\n",
       "      <td>à²à³à²°à³à²°à²¿ à²¨à³à²µà³ à²¨à²¿à²à²µà²...</td>\n",
       "      <td>Kannada</td>\n",
       "    </tr>\n",
       "  </tbody>\n",
       "</table>\n",
       "<p>10337 rows × 2 columns</p>\n",
       "</div>"
      ],
      "text/plain": [
       "                                                    Text Language\n",
       "0       Nature, in the broadest sense, is the natural...  English\n",
       "1      \"Nature\" can refer to the phenomena of the phy...  English\n",
       "2      The study of nature is a large, if not the onl...  English\n",
       "3      Although humans are part of nature, human acti...  English\n",
       "4      [1] The word nature is borrowed from the Old F...  English\n",
       "...                                                  ...      ...\n",
       "10333  à²¨à²¿à²®à³à²® à²¤à²ªà³à²ªà³ à²à²¨à³ à²¬à...  Kannada\n",
       "10334  à²¨à²¾à²°à³à²¸à²¿à²¸à²¾ à²¤à²¾à²¨à³ à²®à³à²...  Kannada\n",
       "10335  à²¹à³à²à³ ' à²¨à²¾à²°à³à²¸à²¿à²¸à²¿à²¸à²®à...  Kannada\n",
       "10336  à²\n",
       "à²µà²³à³ à²à² à²¹à³à²à³à²à³ à²à²¿à...  Kannada\n",
       "10337  à²à³à²°à³à²°à²¿ à²¨à³à²µà³ à²¨à²¿à²à²µà²...  Kannada\n",
       "\n",
       "[10337 rows x 2 columns]"
      ]
     },
     "execution_count": 37,
     "metadata": {},
     "output_type": "execute_result"
    }
   ],
   "source": [
    "df1=df.dropna()\n",
    "df1\n"
   ]
  },
  {
   "cell_type": "markdown",
   "id": "72a49723",
   "metadata": {},
   "source": [
    "# Total language in data set"
   ]
  },
  {
   "cell_type": "code",
   "execution_count": 38,
   "id": "50b27694",
   "metadata": {},
   "outputs": [
    {
     "data": {
      "text/plain": [
       "Language\n",
       "English                                                                                                                                                                                                                                                                                                                                                                                                                                                                                                                                                                                                                                                                                                                                                                                                                                                                                                                                                                                                                                                                                                                                                                                                                                                                                                                                                                                                                                                                                                                                                                                                                                                                                                                                                                                                                                                                                                                                                                                                                                                                                                                1385\n",
       "French                                                                                                                                                                                                                                                                                                                                                                                                                                                                                                                                                                                                                                                                                                                                                                                                                                                                                                                                                                                                                                                                                                                                                                                                                                                                                                                                                                                                                                                                                                                                                                                                                                                                                                                                                                                                                                                                                                                                                                                                                                                                                                                 1014\n",
       "Spanish                                                                                                                                                                                                                                                                                                                                                                                                                                                                                                                                                                                                                                                                                                                                                                                                                                                                                                                                                                                                                                                                                                                                                                                                                                                                                                                                                                                                                                                                                                                                                                                                                                                                                                                                                                                                                                                                                                                                                                                                                                                                                                                 819\n",
       "Portugeese                                                                                                                                                                                                                                                                                                                                                                                                                                                                                                                                                                                                                                                                                                                                                                                                                                                                                                                                                                                                                                                                                                                                                                                                                                                                                                                                                                                                                                                                                                                                                                                                                                                                                                                                                                                                                                                                                                                                                                                                                                                                                                              739\n",
       "Italian                                                                                                                                                                                                                                                                                                                                                                                                                                                                                                                                                                                                                                                                                                                                                                                                                                                                                                                                                                                                                                                                                                                                                                                                                                                                                                                                                                                                                                                                                                                                                                                                                                                                                                                                                                                                                                                                                                                                                                                                                                                                                                                 698\n",
       "Russian                                                                                                                                                                                                                                                                                                                                                                                                                                                                                                                                                                                                                                                                                                                                                                                                                                                                                                                                                                                                                                                                                                                                                                                                                                                                                                                                                                                                                                                                                                                                                                                                                                                                                                                                                                                                                                                                                                                                                                                                                                                                                                                 692\n",
       "Sweedish                                                                                                                                                                                                                                                                                                                                                                                                                                                                                                                                                                                                                                                                                                                                                                                                                                                                                                                                                                                                                                                                                                                                                                                                                                                                                                                                                                                                                                                                                                                                                                                                                                                                                                                                                                                                                                                                                                                                                                                                                                                                                                                676\n",
       "Malayalam                                                                                                                                                                                                                                                                                                                                                                                                                                                                                                                                                                                                                                                                                                                                                                                                                                                                                                                                                                                                                                                                                                                                                                                                                                                                                                                                                                                                                                                                                                                                                                                                                                                                                                                                                                                                                                                                                                                                                                                                                                                                                                               594\n",
       "Dutch                                                                                                                                                                                                                                                                                                                                                                                                                                                                                                                                                                                                                                                                                                                                                                                                                                                                                                                                                                                                                                                                                                                                                                                                                                                                                                                                                                                                                                                                                                                                                                                                                                                                                                                                                                                                                                                                                                                                                                                                                                                                                                                   546\n",
       "Arabic                                                                                                                                                                                                                                                                                                                                                                                                                                                                                                                                                                                                                                                                                                                                                                                                                                                                                                                                                                                                                                                                                                                                                                                                                                                                                                                                                                                                                                                                                                                                                                                                                                                                                                                                                                                                                                                                                                                                                                                                                                                                                                                  536\n",
       "Turkish                                                                                                                                                                                                                                                                                                                                                                                                                                                                                                                                                                                                                                                                                                                                                                                                                                                                                                                                                                                                                                                                                                                                                                                                                                                                                                                                                                                                                                                                                                                                                                                                                                                                                                                                                                                                                                                                                                                                                                                                                                                                                                                 474\n",
       "German                                                                                                                                                                                                                                                                                                                                                                                                                                                                                                                                                                                                                                                                                                                                                                                                                                                                                                                                                                                                                                                                                                                                                                                                                                                                                                                                                                                                                                                                                                                                                                                                                                                                                                                                                                                                                                                                                                                                                                                                                                                                                                                  470\n",
       "Tamil                                                                                                                                                                                                                                                                                                                                                                                                                                                                                                                                                                                                                                                                                                                                                                                                                                                                                                                                                                                                                                                                                                                                                                                                                                                                                                                                                                                                                                                                                                                                                                                                                                                                                                                                                                                                                                                                                                                                                                                                                                                                                                                   469\n",
       "Danish                                                                                                                                                                                                                                                                                                                                                                                                                                                                                                                                                                                                                                                                                                                                                                                                                                                                                                                                                                                                                                                                                                                                                                                                                                                                                                                                                                                                                                                                                                                                                                                                                                                                                                                                                                                                                                                                                                                                                                                                                                                                                                                  428\n",
       "Kannada                                                                                                                                                                                                                                                                                                                                                                                                                                                                                                                                                                                                                                                                                                                                                                                                                                                                                                                                                                                                                                                                                                                                                                                                                                                                                                                                                                                                                                                                                                                                                                                                                                                                                                                                                                                                                                                                                                                                                                                                                                                                                                                 369\n",
       "Greek                                                                                                                                                                                                                                                                                                                                                                                                                                                                                                                                                                                                                                                                                                                                                                                                                                                                                                                                                                                                                                                                                                                                                                                                                                                                                                                                                                                                                                                                                                                                                                                                                                                                                                                                                                                                                                                                                                                                                                                                                                                                                                                   365\n",
       "Hindi                                                                                                                                                                                                                                                                                                                                                                                                                                                                                                                                                                                                                                                                                                                                                                                                                                                                                                                                                                                                                                                                                                                                                                                                                                                                                                                                                                                                                                                                                                                                                                                                                                                                                                                                                                                                                                                                                                                                                                                                                                                                                                                    62\n",
       " à¤\n",
       "à¤¬ à¤à¤ª à¤¸à¥à¤ à¤¸à¤à¤¤à¥ à¤¹à¥à¤ à¤à¤¿ à¤¶à¤¬à¥à¤¦ à¤«à¤¿à¤à¥à¤¸ à¤à¤¾ à¤à¥à¤ à¤à¤°à¤¨à¤¾ à¤¹à¥ à¤à¥à¤ à¤®à¤°à¤®à¥à¤®à¤¤ à¤à¥ à¤¸à¤¾à¤¥à¥¤ à¤²à¥à¤à¤¿à¤¨ à¤à¤ à¤«à¤¿à¤à¥à¤¸ à¤®à¥à¤ à¤à¥à¤ à¤­à¥ à¤ªà¤°à¥à¤¶à¤¾à¤¨à¥ à¤à¤¾ à¤®à¤¤à¤²à¤¬ à¤¨à¤¹à¥à¤ à¤¹à¥ à¤à¤ à¤ªà¤°à¥à¤¶à¤¾à¤¨à¥ à¤à¥ à¤¸à¥à¤¥à¤¿à¤¤à¤¿ à¤®à¥à¤ à¤¦à¥à¤¸à¤°à¥ à¤¶à¤¬à¥à¤¦à¥à¤ à¤à¤¾ à¤à¤ªà¤¯à¥à¤ à¤à¤°à¥à¤ à¤à¤¿à¤¨à¥à¤¹à¥à¤ à¤à¤ª à¤à¤ à¤«à¤¿à¤à¥à¤¸ à¤®à¥à¤ à¤à¤ªà¤¯à¥à¤ à¤à¤° à¤¸à¤à¤¤à¥ à¤¹à¥à¤ à¤®à¥à¤ à¤à¤ à¤¸à¥à¤ª à¤®à¥à¤ à¤¹à¥à¤ à¤¯à¤¾ à¤®à¥à¤ ' à¤à¤ à¤à¤¡à¤¼à¤¬à¤¡à¤¼ à¤®à¥à¤ à¤¹à¥à¤ à¤¯à¤¾ à¤®à¥à¤ à¤ªà¤°à¥à¤¶à¤¾à¤¨ à¤à¥ à¤à¤ à¤¸à¥à¤¥à¤¾à¤¨ à¤ªà¤° à¤¹à¥à¤ à¤¯à¤¾ à¤¬à¤¸ à¤®à¥à¤ à¤à¤ à¤¸à¥à¤ªà¥à¤ à¤®à¥à¤ à¤¹à¥à¤ à¤¸à¥à¤®à¤¾à¤°à¥à¤ à¤¶à¤¬à¥à¤¦ à¤¸à¤à¤à¥à¤¯à¤¾ 7 à¤¹à¥ à¤«à¥à¤²à¥à¤®à¥à¤à¥à¤¸ à¤«à¥à¤²à¥à¤®à¥à¤à¥à¤¸ à¤à¤¾ à¤®à¤¤à¤²à¤¬ à¤à¤¿à¤¸à¥ à¤à¥ à¤­à¥à¤°à¤®à¤¿à¤¤ à¤à¤°à¤¨à¤¾ à¤¹à¥à¥¤ à¤à¤¤à¤¨à¤¾ à¤¹à¥ à¤à¤¿ à¤µà¥ à¤­à¥à¤² à¤à¤¾à¤¤à¥ à¤¹à¥à¤ à¤à¤¿ à¤\n",
       "à¤¬ à¤à¥à¤¯à¤¾ à¤à¤°à¤¨à¤¾ à¤¹à¥ à¤à¤²à¤à¤¨ à¤®à¥à¤ à¤à¤ à¤\n",
       "à¤¤à¤¿ à¤ªà¥à¤°à¤¯à¥à¤ à¤¶à¤¬à¥à¤¦ à¤¹à¥ à¤à¤¾à¤¤à¤¾ à¤¹à¥ à¤¤à¥ à¤à¤¸à¤à¥ à¤¬à¤à¤¾à¤¯ à¤à¤ª à¤à¤¦à¤¾à¤¹à¤°à¤£ à¤à¥ à¤²à¤¿à¤ flummox à¤à¤¾ à¤à¤ªà¤¯à¥à¤ à¤à¥à¤¯à¥à¤ à¤¨à¤¹à¥à¤ à¤à¤°à¤¤à¥ à¤¹à¥à¤à¥¤ à¤²à¤¡à¤¼à¤à¤¾ à¤ªà¥à¤°à¥ à¤¤à¤°à¤¹ à¤¸à¥ à¤¦à¤¿à¤à¤¤à¤¾ à¤¹à¥ à¥¤flummoxed à¤à¤¬ à¤¶à¤¿à¤à¥à¤·à¤ à¤¨à¥ à¤à¤¸à¥ à¤à¤à¥à¤·à¤¾ à¤®à¥à¤ à¤à¤ à¤¸à¤µà¤¾à¤² à¤ªà¥à¤à¤¾ à¤¯à¤¾ à¤à¥à¤¤à¥à¤¤à¥ à¤à¥ à¤¦à¥à¤ à¤¶à¤°à¤¾à¤¬à¥ à¤¹à¥ à¤à¤¯à¤¾à¥¤ à¤¦à¤°à¥à¤ªà¤£ à¤®à¥à¤ à¤\n",
       "à¤ªà¤¨à¥ à¤¸à¥à¤µà¤¯à¤ à¤à¥ à¤ªà¥à¤°à¤¤à¤¿à¤¬à¤¿à¤à¤¬ à¤¯à¤¾ à¤ªà¤°à¥à¤¯à¤à¤ à¤à¥ à¤\n",
       "à¤²à¤-à¤\n",
       "à¤²à¤ à¤°à¥à¤¤à¤¿-à¤°à¤¿à¤µà¤¾à¤à¥à¤ à¤¸à¥ à¤²à¤¾à¤¦ à¤¦à¤¿à¤¯à¤¾ à¤à¤¯à¤¾ à¤¥à¤¾à¥¤ à¤\n",
       "à¤ªà¤¨à¥ à¤¯à¤¾à¤¤à¥à¤°à¤¾ à¤à¥ à¤¦à¥à¤°à¤¾à¤¨ à¤¯à¤¾ à¤à¤ à¤¸à¤¾à¤à¥à¤·à¤¾à¤¤à¥à¤à¤¾à¤° à¤à¥ à¤¦à¥à¤°à¤¾à¤¨ à¤à¤¨à¤à¤¾ à¤¸à¤¾à¤®à¤¨à¤¾ à¤¹à¥à¤       1\n",
       "Name: count, dtype: int64"
      ]
     },
     "execution_count": 38,
     "metadata": {},
     "output_type": "execute_result"
    }
   ],
   "source": [
    "df1[\"Language\"].value_counts()"
   ]
  },
  {
   "cell_type": "markdown",
   "id": "22d582a6",
   "metadata": {},
   "source": [
    "# Language Detection Model"
   ]
  },
  {
   "cell_type": "code",
   "execution_count": 39,
   "id": "c7cf9ffa",
   "metadata": {},
   "outputs": [],
   "source": [
    "x = np.array(df1[\"Text\"])\n",
    "y = np.array(df1[\"Language\"])\n",
    "\n",
    "cv = CountVectorizer()\n",
    "X = cv.fit_transform(x)\n",
    "X_train, X_test, y_train, y_test = train_test_split(X, y, \n",
    "                                                    test_size=0.33, \n",
    "                                                    random_state=42)"
   ]
  },
  {
   "cell_type": "markdown",
   "id": "2c6f0ee9",
   "metadata": {},
   "source": [
    "As this is a problem of multiclass classification, so I will be using the Multinomial Naïve Bayes algorithm to train the language detection model as this algorithm always performs very well on the problems based on multiclass classification:"
   ]
  },
  {
   "cell_type": "code",
   "execution_count": 40,
   "id": "fd7c9e1b",
   "metadata": {},
   "outputs": [
    {
     "data": {
      "text/plain": [
       "0.9791910902696366"
      ]
     },
     "execution_count": 40,
     "metadata": {},
     "output_type": "execute_result"
    }
   ],
   "source": [
    "model = MultinomialNB()\n",
    "model.fit(X_train,y_train)\n",
    "model.score(X_test,y_test)"
   ]
  },
  {
   "cell_type": "markdown",
   "id": "062d37dd",
   "metadata": {},
   "source": [
    "Now let’s use this model to detect the language of a text by taking a user input:"
   ]
  },
  {
   "cell_type": "code",
   "execution_count": 41,
   "id": "6921a6de",
   "metadata": {},
   "outputs": [
    {
     "name": "stdout",
     "output_type": "stream",
     "text": [
      "Enter a Text: hello\n",
      "['English']\n"
     ]
    }
   ],
   "source": [
    "user = input(\"Enter a Text: \")\n",
    "data = cv.transform([user]).toarray()\n",
    "output = model.predict(data)\n",
    "print(output)"
   ]
  }
 ],
 "metadata": {
  "kernelspec": {
   "display_name": "Python 3 (ipykernel)",
   "language": "python",
   "name": "python3"
  },
  "language_info": {
   "codemirror_mode": {
    "name": "ipython",
    "version": 3
   },
   "file_extension": ".py",
   "mimetype": "text/x-python",
   "name": "python",
   "nbconvert_exporter": "python",
   "pygments_lexer": "ipython3",
   "version": "3.11.4"
  }
 },
 "nbformat": 4,
 "nbformat_minor": 5
}
